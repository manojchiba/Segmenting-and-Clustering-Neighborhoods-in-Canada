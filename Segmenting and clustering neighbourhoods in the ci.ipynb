{
    "cells": [
        {
            "cell_type": "markdown",
            "metadata": {},
            "source": "PART 1"
        },
        {
            "cell_type": "code",
            "execution_count": 43,
            "metadata": {},
            "outputs": [],
            "source": "from bs4 import BeautifulSoup\nfrom geopy.geocoders import Nominatim\nfrom sklearn.cluster import KMeans\nimport requests\nimport pandas as pd\nfrom pandas.io.json import json_normalize\nimport numpy as np\nimport matplotlib.cm as cm\nimport matplotlib.colors as colors"
        },
        {
            "cell_type": "code",
            "execution_count": 44,
            "metadata": {},
            "outputs": [],
            "source": "wiki_url = 'https://en.wikipedia.org/wiki/List_of_postal_codes_of_Canada:_M'\nhtml_text = requests.get(wiki_url).text\n\nsoup = BeautifulSoup(html_text)\ntable = soup.find('table', attrs={'class':'wikitable sortable'})\ntrs = table.find_all('tr')\n\nrows = list()\nfor tr in trs:\n    td = tr.find_all('td')\n    row = [ele.text.strip() for ele in td]\n    if row:\n\n        rows.append(row)\n\ndf = pd.DataFrame(rows,\n                  columns=['PostalCode', 'Borough', 'Neighborhood'])\n\ndf = df[df.Borough != 'Not assigned']\ndf.reset_index(inplace=True, drop=True)\n\ndf['Neighborhood'] = df.apply(\n    lambda row: \n    row['Borough'] if row['Neighborhood'] == 'Not assigned' \n    else row['Neighborhood'],\n    axis=1)\ndf = df.groupby(['PostalCode', 'Borough'])['Neighborhood'].\\\n    apply(', '.join).to_frame()\ndf.reset_index(inplace=True)"
        },
        {
            "cell_type": "code",
            "execution_count": 45,
            "metadata": {},
            "outputs": [
                {
                    "data": {
                        "text/html": "<div>\n<style scoped>\n    .dataframe tbody tr th:only-of-type {\n        vertical-align: middle;\n    }\n\n    .dataframe tbody tr th {\n        vertical-align: top;\n    }\n\n    .dataframe thead th {\n        text-align: right;\n    }\n</style>\n<table border=\"1\" class=\"dataframe\">\n  <thead>\n    <tr style=\"text-align: right;\">\n      <th></th>\n      <th>PostalCode</th>\n      <th>Borough</th>\n      <th>Neighborhood</th>\n    </tr>\n  </thead>\n  <tbody>\n    <tr>\n      <th>0</th>\n      <td>M1B</td>\n      <td>Scarborough</td>\n      <td>Malvern / Rouge</td>\n    </tr>\n    <tr>\n      <th>1</th>\n      <td>M1C</td>\n      <td>Scarborough</td>\n      <td>Rouge Hill / Port Union / Highland Creek</td>\n    </tr>\n    <tr>\n      <th>2</th>\n      <td>M1E</td>\n      <td>Scarborough</td>\n      <td>Guildwood / Morningside / West Hill</td>\n    </tr>\n    <tr>\n      <th>3</th>\n      <td>M1G</td>\n      <td>Scarborough</td>\n      <td>Woburn</td>\n    </tr>\n    <tr>\n      <th>4</th>\n      <td>M1H</td>\n      <td>Scarborough</td>\n      <td>Cedarbrae</td>\n    </tr>\n    <tr>\n      <th>5</th>\n      <td>M1J</td>\n      <td>Scarborough</td>\n      <td>Scarborough Village</td>\n    </tr>\n    <tr>\n      <th>6</th>\n      <td>M1K</td>\n      <td>Scarborough</td>\n      <td>Kennedy Park / Ionview / East Birchmount Park</td>\n    </tr>\n    <tr>\n      <th>7</th>\n      <td>M1L</td>\n      <td>Scarborough</td>\n      <td>Golden Mile / Clairlea / Oakridge</td>\n    </tr>\n    <tr>\n      <th>8</th>\n      <td>M1M</td>\n      <td>Scarborough</td>\n      <td>Cliffside / Cliffcrest / Scarborough Village West</td>\n    </tr>\n    <tr>\n      <th>9</th>\n      <td>M1N</td>\n      <td>Scarborough</td>\n      <td>Birch Cliff / Cliffside West</td>\n    </tr>\n    <tr>\n      <th>10</th>\n      <td>M1P</td>\n      <td>Scarborough</td>\n      <td>Dorset Park / Wexford Heights / Scarborough To...</td>\n    </tr>\n    <tr>\n      <th>11</th>\n      <td>M1R</td>\n      <td>Scarborough</td>\n      <td>Wexford / Maryvale</td>\n    </tr>\n  </tbody>\n</table>\n</div>",
                        "text/plain": "   PostalCode      Borough                                       Neighborhood\n0         M1B  Scarborough                                    Malvern / Rouge\n1         M1C  Scarborough           Rouge Hill / Port Union / Highland Creek\n2         M1E  Scarborough                Guildwood / Morningside / West Hill\n3         M1G  Scarborough                                             Woburn\n4         M1H  Scarborough                                          Cedarbrae\n5         M1J  Scarborough                                Scarborough Village\n6         M1K  Scarborough      Kennedy Park / Ionview / East Birchmount Park\n7         M1L  Scarborough                  Golden Mile / Clairlea / Oakridge\n8         M1M  Scarborough  Cliffside / Cliffcrest / Scarborough Village West\n9         M1N  Scarborough                       Birch Cliff / Cliffside West\n10        M1P  Scarborough  Dorset Park / Wexford Heights / Scarborough To...\n11        M1R  Scarborough                                 Wexford / Maryvale"
                    },
                    "execution_count": 45,
                    "metadata": {},
                    "output_type": "execute_result"
                }
            ],
            "source": "df.head(12)"
        },
        {
            "cell_type": "code",
            "execution_count": 57,
            "metadata": {},
            "outputs": [
                {
                    "name": "stdout",
                    "output_type": "stream",
                    "text": "Dataframe shape:  (103, 5)\n"
                }
            ],
            "source": "print(\"Dataframe shape: \", df.shape)"
        },
        {
            "cell_type": "markdown",
            "metadata": {},
            "source": "Part 2"
        },
        {
            "cell_type": "code",
            "execution_count": 60,
            "metadata": {},
            "outputs": [],
            "source": "geospatial_data = pd.read_csv('https://cocl.us/Geospatial_data')\n\ndf = pd.concat(\n    [df.set_index('PostalCode'), geospatial_data.set_index('Postal Code')],\n    axis=1, join='inner')\n\ndf.reset_index(inplace=True)\n\ndf.rename(columns={'index': 'PostalCode'}, inplace=True)"
        },
        {
            "cell_type": "code",
            "execution_count": 62,
            "metadata": {},
            "outputs": [
                {
                    "data": {
                        "text/html": "<div>\n<style scoped>\n    .dataframe tbody tr th:only-of-type {\n        vertical-align: middle;\n    }\n\n    .dataframe tbody tr th {\n        vertical-align: top;\n    }\n\n    .dataframe thead th {\n        text-align: right;\n    }\n</style>\n<table border=\"1\" class=\"dataframe\">\n  <thead>\n    <tr style=\"text-align: right;\">\n      <th></th>\n      <th>PostalCode</th>\n      <th>Borough</th>\n      <th>Neighborhood</th>\n      <th>Latitude</th>\n      <th>Longitude</th>\n      <th>Latitude</th>\n      <th>Longitude</th>\n    </tr>\n  </thead>\n  <tbody>\n    <tr>\n      <th>0</th>\n      <td>M1B</td>\n      <td>Scarborough</td>\n      <td>Malvern / Rouge</td>\n      <td>43.806686</td>\n      <td>-79.194353</td>\n      <td>43.806686</td>\n      <td>-79.194353</td>\n    </tr>\n    <tr>\n      <th>1</th>\n      <td>M1C</td>\n      <td>Scarborough</td>\n      <td>Rouge Hill / Port Union / Highland Creek</td>\n      <td>43.784535</td>\n      <td>-79.160497</td>\n      <td>43.784535</td>\n      <td>-79.160497</td>\n    </tr>\n    <tr>\n      <th>2</th>\n      <td>M1E</td>\n      <td>Scarborough</td>\n      <td>Guildwood / Morningside / West Hill</td>\n      <td>43.763573</td>\n      <td>-79.188711</td>\n      <td>43.763573</td>\n      <td>-79.188711</td>\n    </tr>\n    <tr>\n      <th>3</th>\n      <td>M1G</td>\n      <td>Scarborough</td>\n      <td>Woburn</td>\n      <td>43.770992</td>\n      <td>-79.216917</td>\n      <td>43.770992</td>\n      <td>-79.216917</td>\n    </tr>\n    <tr>\n      <th>4</th>\n      <td>M1H</td>\n      <td>Scarborough</td>\n      <td>Cedarbrae</td>\n      <td>43.773136</td>\n      <td>-79.239476</td>\n      <td>43.773136</td>\n      <td>-79.239476</td>\n    </tr>\n  </tbody>\n</table>\n</div>",
                        "text/plain": "  PostalCode      Borough                              Neighborhood  \\\n0        M1B  Scarborough                           Malvern / Rouge   \n1        M1C  Scarborough  Rouge Hill / Port Union / Highland Creek   \n2        M1E  Scarborough       Guildwood / Morningside / West Hill   \n3        M1G  Scarborough                                    Woburn   \n4        M1H  Scarborough                                 Cedarbrae   \n\n    Latitude  Longitude   Latitude  Longitude  \n0  43.806686 -79.194353  43.806686 -79.194353  \n1  43.784535 -79.160497  43.784535 -79.160497  \n2  43.763573 -79.188711  43.763573 -79.188711  \n3  43.770992 -79.216917  43.770992 -79.216917  \n4  43.773136 -79.239476  43.773136 -79.239476  "
                    },
                    "execution_count": 62,
                    "metadata": {},
                    "output_type": "execute_result"
                }
            ],
            "source": "df.head()"
        },
        {
            "cell_type": "code",
            "execution_count": null,
            "metadata": {},
            "outputs": [],
            "source": ""
        }
    ],
    "metadata": {
        "kernelspec": {
            "display_name": "Python 3.6",
            "language": "python",
            "name": "python3"
        },
        "language_info": {
            "codemirror_mode": {
                "name": "ipython",
                "version": 3
            },
            "file_extension": ".py",
            "mimetype": "text/x-python",
            "name": "python",
            "nbconvert_exporter": "python",
            "pygments_lexer": "ipython3",
            "version": "3.6.9"
        }
    },
    "nbformat": 4,
    "nbformat_minor": 1
}